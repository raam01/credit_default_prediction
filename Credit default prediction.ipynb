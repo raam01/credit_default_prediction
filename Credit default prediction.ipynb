{
 "cells": [
  {
   "cell_type": "markdown",
   "id": "9b45077e",
   "metadata": {},
   "source": [
    "# Imports"
   ]
  },
  {
   "cell_type": "code",
   "execution_count": 1,
   "id": "d69f6b8d",
   "metadata": {},
   "outputs": [],
   "source": [
    "import pandas as pd\n",
    "import numpy as np\n",
    "import matplotlib.pyplot as plt\n",
    "import seaborn as sns\n",
    "## Imports\n",
    "from sklearn.metrics import plot_confusion_matrix,matthews_corrcoef\n",
    "from sklearn.preprocessing import StandardScaler\n",
    "from sklearn.pipeline import Pipeline\n",
    "from sklearn.ensemble import RandomForestClassifier\n",
    "#scoring function for all models\n",
    "#import classification models\n",
    "from sklearn.linear_model import LogisticRegression\n",
    "from sklearn.metrics import make_scorer\n",
    "from sklearn.metrics import matthews_corrcoef\n"
   ]
  },
  {
   "cell_type": "code",
   "execution_count": 2,
   "id": "f9453c30",
   "metadata": {},
   "outputs": [],
   "source": [
    "useful_data=pd.read_csv(\"useful_data.csv\")"
   ]
  },
  {
   "cell_type": "code",
   "execution_count": 3,
   "id": "ebb047f7",
   "metadata": {},
   "outputs": [],
   "source": [
    "#select necessry columns\n",
    "def transform_operations(df):\n",
    "    df_new = df[['home_ownership', 'annual_income', 'purpose', 'term', 'current_loan_amount', 'credit_score', 'credit_default' ]]\n",
    "    return df_new\n",
    "\n",
    "useful_data = transform_operations(useful_data)"
   ]
  },
  {
   "cell_type": "markdown",
   "id": "f6aa2e6c",
   "metadata": {},
   "source": [
    "# Transform data"
   ]
  },
  {
   "cell_type": "code",
   "execution_count": 4,
   "id": "31f03417",
   "metadata": {},
   "outputs": [
    {
     "data": {
      "text/plain": [
       "Index(['annual_income', 'current_loan_amount', 'credit_score',\n",
       "       'credit_default', 'home_ownership_Home Mortgage',\n",
       "       'home_ownership_Own Home', 'home_ownership_Rent', 'purpose_buy a car',\n",
       "       'purpose_buy house', 'purpose_debt consolidation',\n",
       "       'purpose_educational expenses', 'purpose_home improvements',\n",
       "       'purpose_major purchase', 'purpose_medical bills', 'purpose_moving',\n",
       "       'purpose_other', 'purpose_small business', 'purpose_take a trip',\n",
       "       'purpose_vacation', 'purpose_wedding', 'term_Short Term'],\n",
       "      dtype='object')"
      ]
     },
     "execution_count": 4,
     "metadata": {},
     "output_type": "execute_result"
    }
   ],
   "source": [
    "#Get dummies for categorical variables\n",
    "with_dummies=pd.get_dummies(useful_data,columns=[\"home_ownership\",\"purpose\",\"term\"],drop_first=True)\n",
    "with_dummies.columns"
   ]
  },
  {
   "cell_type": "code",
   "execution_count": 5,
   "id": "1940d915",
   "metadata": {},
   "outputs": [
    {
     "name": "stdout",
     "output_type": "stream",
     "text": [
      "(4673, 20) (4673,)\n"
     ]
    }
   ],
   "source": [
    "#Split X and y\n",
    "X=with_dummies.drop([\"credit_default\"],axis=1)\n",
    "y=with_dummies[\"credit_default\"]\n",
    "print(X.shape,y.shape)"
   ]
  },
  {
   "cell_type": "code",
   "execution_count": 6,
   "id": "7d129643",
   "metadata": {},
   "outputs": [],
   "source": [
    "#Split train and test\n",
    "from sklearn.model_selection import train_test_split\n",
    "def get_data_split(x, y, test_size = 0.2):\n",
    "    # split arrays or matrices into random train and test subsets\n",
    "    x_train, x_test, y_train, y_test = train_test_split(x, y, test_size=test_size,  stratify=y)\n",
    "    return x_train, x_test, y_train, y_test\n",
    "\n",
    "X_train, X_test, y_train, y_test = get_data_split(X, y)"
   ]
  },
  {
   "cell_type": "code",
   "execution_count": 7,
   "id": "8ef59fea",
   "metadata": {},
   "outputs": [],
   "source": [
    "# define oversampling strategy\n",
    "# To handle imbalance in dataset\n",
    "import imblearn\n",
    "from imblearn.over_sampling import RandomOverSampler\n",
    "oversample = RandomOverSampler(sampling_strategy='minority')\n",
    "\n",
    "X_train, y_train = oversample.fit_resample(X_train, y_train)"
   ]
  },
  {
   "cell_type": "code",
   "execution_count": 8,
   "id": "2c556dcd",
   "metadata": {},
   "outputs": [
    {
     "data": {
      "image/png": "[encoded data removed]",
      "text/plain": [
       "<Figure size 432x288 with 1 Axes>"
      ]
     },
     "metadata": {
      "needs_background": "light"
     },
     "output_type": "display_data"
    }
   ],
   "source": [
    "#to confirm both classes have same number of values\n",
    "sns.countplot(x=y_train)\n",
    "plt.show()"
   ]
  },
  {
   "cell_type": "markdown",
   "id": "3536b487",
   "metadata": {},
   "source": [
    "# Fit the pipeline with logistic regression"
   ]
  },
  {
   "cell_type": "code",
   "execution_count": 9,
   "id": "7ad0e198",
   "metadata": {},
   "outputs": [],
   "source": [
    "#Scoring\n",
    "mcc_scorer=make_scorer(matthews_corrcoef)"
   ]
  },
  {
   "cell_type": "code",
   "execution_count": 10,
   "id": "05516026",
   "metadata": {},
   "outputs": [
    {
     "data": {
      "text/plain": [
       "Pipeline(steps=[('scaler', StandardScaler()),\n",
       "                ('Log_reg', LogisticRegression())])"
      ]
     },
     "execution_count": 10,
     "metadata": {},
     "output_type": "execute_result"
    }
   ],
   "source": [
    "## Use pipeline to scale and fit\n",
    "pipe = Pipeline([('scaler', StandardScaler()), ('Log_reg', LogisticRegression(solver= 'lbfgs', penalty= 'l2', fit_intercept= True, C= 1.0))])\n",
    "pipe.fit(X_train, y_train)"
   ]
  },
  {
   "cell_type": "code",
   "execution_count": 11,
   "id": "4c3873db",
   "metadata": {
    "scrolled": false
   },
   "outputs": [
    {
     "name": "stdout",
     "output_type": "stream",
     "text": [
      "MCC score is 0.187\n"
     ]
    },
    {
     "data": {
      "image/png": "[encoded data removed]",
      "text/plain": [
       "<Figure size 432x288 with 2 Axes>"
      ]
     },
     "metadata": {
      "needs_background": "light"
     },
     "output_type": "display_data"
    }
   ],
   "source": [
    "#Check performance\n",
    "y_pipe_pred=pipe.predict(X_test)\n",
    "print(\"MCC score is\",round(matthews_corrcoef(y_test,y_pipe_pred),3))\n",
    "plot_confusion_matrix(pipe,X_test,y_test)\n",
    "plt.show()"
   ]
  },
  {
   "cell_type": "markdown",
   "id": "f33c63b1",
   "metadata": {},
   "source": [
    "# Predicting probability of default"
   ]
  },
  {
   "cell_type": "code",
   "execution_count": 12,
   "id": "be629748",
   "metadata": {},
   "outputs": [
    {
     "name": "stdout",
     "output_type": "stream",
     "text": [
      "Sample input is: \n",
      " annual_income                   1567196\n",
      "current_loan_amount              572616\n",
      "credit_score                        740\n",
      "home_ownership_Home Mortgage          1\n",
      "home_ownership_Own Home               0\n",
      "home_ownership_Rent                   0\n",
      "purpose_buy a car                     0\n",
      "purpose_buy house                     0\n",
      "purpose_debt consolidation            1\n",
      "purpose_educational expenses          0\n",
      "purpose_home improvements             0\n",
      "purpose_major purchase                0\n",
      "purpose_medical bills                 0\n",
      "purpose_moving                        0\n",
      "purpose_other                         0\n",
      "purpose_small business                0\n",
      "purpose_take a trip                   0\n",
      "purpose_vacation                      0\n",
      "purpose_wedding                       0\n",
      "term_Short Term                       1\n",
      "Name: 1073, dtype: int64\n",
      "Sample actual output is:  0\n"
     ]
    }
   ],
   "source": [
    "sample_input=X_test.iloc[1]\n",
    "sample_output=y_test.iloc[1]\n",
    "print(\"Sample input is: \\n\",sample_input)\n",
    "print(\"Sample actual output is: \",sample_output)"
   ]
  },
  {
   "cell_type": "code",
   "execution_count": 13,
   "id": "523008cb",
   "metadata": {},
   "outputs": [
    {
     "name": "stdout",
     "output_type": "stream",
     "text": [
      "Predicted probability for input is: [0.37292431]\n",
      "Predicted outcome is [0]\n"
     ]
    }
   ],
   "source": [
    "# Predicting probability of default\n",
    "yhat = pipe.predict_proba([sample_input.values])\n",
    "yhat = yhat[:, 1]\n",
    "sample_prediction=pipe.predict([sample_input.values])\n",
    "print(\"Predicted probability for input is:\",yhat)\n",
    "print(\"Predicted outcome is\",sample_prediction)"
   ]
  },
  {
   "cell_type": "code",
   "execution_count": null,
   "id": "45443946",
   "metadata": {},
   "outputs": [],
   "source": []
  }
 ],
 "metadata": {
  "kernelspec": {
   "display_name": "Python 3",
   "language": "python",
   "name": "python3"
  },
  "language_info": {
   "codemirror_mode": {
    "name": "ipython",
    "version": 3
   },
   "file_extension": ".py",
   "mimetype": "text/x-python",
   "name": "python",
   "nbconvert_exporter": "python",
   "pygments_lexer": "ipython3",
   "version": "3.8.8"
  }
 },
 "nbformat": 4,
 "nbformat_minor": 5
}
